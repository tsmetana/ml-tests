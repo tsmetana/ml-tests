{
 "cells": [
  {
   "cell_type": "code",
   "execution_count": null,
   "id": "fac1ce6e",
   "metadata": {},
   "outputs": [],
   "source": [
    "import torch\n",
    "import random\n",
    "import torchvision.io as tvio\n",
    "import matplotlib.pyplot as plt\n",
    "%matplotlib inline\n",
    "\n",
    "devname = \"cuda\" if torch.cuda.is_available() else \"cpu\"\n",
    "gpu = torch.device(devname)\n",
    "print(f\"Using {gpu} on {torch.cuda.get_device_name(gpu)}\")\n",
    "cpu = \"cpu\"\n",
    "\n",
    "sub_size = [8, 8]"
   ]
  },
  {
   "cell_type": "code",
   "execution_count": null,
   "id": "5da07d3c",
   "metadata": {},
   "outputs": [],
   "source": [
    "def create_training_set():\n",
    "    sub_img = []\n",
    "    for n in range(1,40):\n",
    "        fname = f'images/{n}.png'\n",
    "        img_data = torch.squeeze(tvio.read_image(fname, tvio.image.ImageReadMode.GRAY)) / 255\n",
    "        for i in range(img_data.shape[1] - sub_size[1]):\n",
    "            for j in range(img_data.shape[0] - sub_size[0]):\n",
    "                sub_img.append(img_data[j:j + sub_size[0], i:i + sub_size[1]])\n",
    "    return sub_img\n",
    "\n",
    "tile_set = create_training_set()\n",
    "random.seed(44)\n",
    "random.shuffle(tile_set)\n",
    "img_set = torch.stack(tile_set)\n",
    "print(img_set.shape)\n",
    "\n",
    "Xtr = img_set.to(gpu)\n",
    "print(f'training set: {Xtr.shape}')\n",
    "\n",
    "#split_idx = int(0.8 * len(img_set))\n",
    "#Xtr = img_set[:split_idx]\n",
    "#Xts = img_set[split_idx:]\n",
    "#print(f'testing set:  {Xts.shape}')\n"
   ]
  },
  {
   "cell_type": "code",
   "execution_count": null,
   "id": "48c318d7",
   "metadata": {},
   "outputs": [],
   "source": [
    "in_layer = torch.zeros(sub_size[0] * sub_size[1], device = gpu)\n",
    "h1 = torch.zeros(100, device = gpu)\n",
    "h2 = torch.zeros(100, device = gpu)\n",
    "h3 = torch.zeros(40, device = gpu)\n",
    "h4 = torch.zeros(100, device = gpu)\n",
    "out_layer = torch.zeros(sub_size[0] * sub_size[1], device = gpu)\n",
    "\n",
    "g = torch.Generator(device = gpu).manual_seed(12345)\n",
    "\n",
    "W1 = torch.randn(sub_size[0] * sub_size[1], 100, generator = g, device = gpu)\n",
    "b1 = torch.randn(100, generator = g, device = gpu)\n",
    "W2 = torch.randn(100, 100, generator = g, device = gpu)\n",
    "b2 = torch.randn(100, generator = g, device = gpu)\n",
    "W3 = torch.randn(100, 40, generator = g, device = gpu)\n",
    "b3 = torch.randn(40, generator = g, device = gpu)\n",
    "W4 = torch.randn(40, 100, generator = g, device = gpu)\n",
    "b4 = torch.randn(100, generator = g, device = gpu)\n",
    "Wout = torch.randn(100, sub_size[0] * sub_size[1], generator = g, device = gpu)\n",
    "bout = torch.randn(sub_size[0] * sub_size[1], generator = g, device = gpu)\n",
    "\n",
    "# W1, b1, W2, b2, W3, b3, W4, b4, Wout, bout = torch.load('params.pt')\n",
    "\n",
    "params = [W1, b1, W2, b2, W3, b3, W4, b4, Wout, bout]\n",
    "for p in params:\n",
    "    p.requires_grad = True"
   ]
  },
  {
   "cell_type": "code",
   "execution_count": null,
   "id": "ad9b77cd",
   "metadata": {},
   "outputs": [],
   "source": [
    "\n",
    "afun = lambda p: torch.sigmoid(p)\n",
    "\n",
    "def compress_pass(in_layer):\n",
    "    h1 = afun(in_layer @ W1 + b1)\n",
    "    h2 = afun(h1 @ W2 + b2)\n",
    "    h3 = afun(h2 @ W3 + b3)\n",
    "    h3q = torch.round(h3 * 255)\n",
    "    return h3, h3q\n",
    " \n",
    "def decompress_pass(compressed_layer, quantized = False):\n",
    "    if quantized:\n",
    "        compressed_layer = compressed_layer / 255\n",
    "    h4 = afun(compressed_layer @ W4 + b4)\n",
    "    out_layer = afun(h4 @ Wout + bout)\n",
    "    return out_layer\n"
   ]
  },
  {
   "cell_type": "code",
   "execution_count": null,
   "id": "9b9ec417",
   "metadata": {},
   "outputs": [],
   "source": [
    "batch_sz = 8\n",
    "loss_e = []\n",
    "lr = 0.05\n",
    "for ep in range(5):\n",
    "    for e in range(10000):\n",
    "        for i in range(20):\n",
    "            idx = random.randrange(len(Xtr) - batch_sz)\n",
    "            in_layer = Xtr[idx:idx + batch_sz].view(-1, sub_size[0] * sub_size[1])\n",
    "            h, q = compress_pass(in_layer)\n",
    "            out_layer = decompress_pass(h)\n",
    "            loss = torch.sum(torch.sum((in_layer - out_layer)**2, dim = 1) / (sub_size[0] * sub_size[1])) / batch_sz\n",
    "            for p in params:\n",
    "                p.grad = None\n",
    "            loss.backward()\n",
    "            for p in params:\n",
    "                p.data += -lr * p.grad\n",
    "        loss_e.append(loss)\n",
    "    loss_es = torch.stack(loss_e)\n",
    "    print(f\"Loss: {torch.mean(loss_es)}; min: {torch.min(loss_es)}, max: {torch.max(loss_es)}\")\n",
    "\n",
    "plt.plot(torch.detach(loss_es.to(cpu)))"
   ]
  },
  {
   "cell_type": "code",
   "execution_count": null,
   "id": "813dca45",
   "metadata": {},
   "outputs": [],
   "source": [
    "def compress_img(tst_img):\n",
    "    comp_data = []\n",
    "    decomp_data = []\n",
    "    for i in range(0, tst_img.shape[1], sub_size[1]):\n",
    "        for j in range(0, tst_img.shape[0], sub_size[0]):\n",
    "            sub_img = tst_img[j:j+sub_size[0], i:i+sub_size[1]]\n",
    "            sub_comp, _ = compress_pass(sub_img.to(gpu).flatten())\n",
    "            comp_data.append(sub_comp)\n",
    "    return  comp_data\n",
    "\n",
    "def decompress_img(comp_data, shape):\n",
    "    tst_decomp = torch.zeros(shape, device = gpu)\n",
    "    di = 0\n",
    "    for i in range(0, shape[1], sub_size[1]):\n",
    "        for j in range(0, shape[0], sub_size[0]):\n",
    "            sub_decomp = decompress_pass(comp_data[di])\n",
    "            for k in range (0, sub_size[1]):\n",
    "                for l in range(0, sub_size[0]):\n",
    "                    tst_decomp[j + l, i + k] = sub_decomp.view(sub_size[0], sub_size[1])[l, k]\n",
    "            di = di +1\n",
    "    return tst_decomp.to(cpu)\n",
    "\n"
   ]
  },
  {
   "cell_type": "code",
   "execution_count": null,
   "id": "5ff7abf1",
   "metadata": {},
   "outputs": [],
   "source": [
    "tst_img_1 = torch.squeeze(tvio.read_image('peppers.png', tvio.image.ImageReadMode.GRAY)) / 255\n",
    "comp_1 = compress_img(tst_img_1)\n",
    "tst_decomp_1 = decompress_img(comp_1, tst_img_1.shape)\n",
    "_, ax = plt.subplots(nrows = 1, ncols = 2, figsize=(16, 8))\n",
    "ax[0].imshow(tst_img_1, cmap='gray', vmin=0, vmax=1.0)\n",
    "ax[1].imshow(tst_decomp_1.detach(), cmap='gray', vmin=0, vmax=1.0)"
   ]
  },
  {
   "cell_type": "code",
   "execution_count": null,
   "id": "933a4a39",
   "metadata": {},
   "outputs": [],
   "source": [
    "tst_img_2 = torch.squeeze(tvio.read_image('images/45.png', tvio.image.ImageReadMode.GRAY)) / 255\n",
    "print(tst_img_2.shape)\n",
    "comp_2 = compress_img(tst_img_2)\n",
    "tst_decomp_2 = decompress_img(comp_2, tst_img_2.shape)\n",
    "_, ax = plt.subplots(nrows = 1, ncols = 2, figsize=(16, 8))\n",
    "ax[0].imshow(tst_img_2, cmap='gray', vmin=0, vmax=1.0)\n",
    "ax[1].imshow(tst_decomp_2.detach(), cmap='gray', vmin=0, vmax=1.0)"
   ]
  },
  {
   "cell_type": "code",
   "execution_count": null,
   "id": "dbcbeaa1",
   "metadata": {},
   "outputs": [],
   "source": [
    "csplit = int(len(comp_1) / 2)\n",
    "comp_3 = comp_1\n",
    "comp_3[:csplit] = comp_2[:csplit]\n",
    "\n",
    "tst_decomp_3 = decompress_img(comp_3, tst_img_2.shape)\n",
    "plt.imshow(tst_decomp_3.detach(), cmap='gray', vmin=0, vmax=1.0)"
   ]
  },
  {
   "cell_type": "code",
   "execution_count": null,
   "id": "bb555029",
   "metadata": {},
   "outputs": [],
   "source": [
    "torch.save(params, 'params.pt')"
   ]
  }
 ],
 "metadata": {
  "kernelspec": {
   "display_name": "torch-env",
   "language": "python",
   "name": "python3"
  },
  "language_info": {
   "codemirror_mode": {
    "name": "ipython",
    "version": 3
   },
   "file_extension": ".py",
   "mimetype": "text/x-python",
   "name": "python",
   "nbconvert_exporter": "python",
   "pygments_lexer": "ipython3",
   "version": "3.11.8"
  }
 },
 "nbformat": 4,
 "nbformat_minor": 5
}
